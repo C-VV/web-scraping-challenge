{
 "cells": [
  {
   "cell_type": "code",
   "execution_count": 29,
   "metadata": {},
   "outputs": [],
   "source": [
    "from bs4 import BeautifulSoup\n",
    "import requests\n",
    "from splinter import Browser\n",
    "import pandas as pd\n",
    "import requests\n",
    "import pymongo\n"
   ]
  },
  {
   "cell_type": "code",
   "execution_count": 37,
   "metadata": {},
   "outputs": [],
   "source": [
    "executable_path = {'executable_path': 'chromedriver.exe'}\n",
    "browser = Browser('chrome', **executable_path, headless=False)"
   ]
  },
  {
   "cell_type": "code",
   "execution_count": 38,
   "metadata": {},
   "outputs": [],
   "source": [
    "# URL of page to be scraped\n",
    "nasa_url = 'https://mars.nasa.gov/news/'\n",
    "browser.visit(nasa_url)\n",
    "nasa_html = browser.html\n",
    "# Create BeautifulSoup object; parse with 'html'\n",
    "soup = BeautifulSoup(nasa_html,'html.parser')"
   ]
  },
  {
   "cell_type": "code",
   "execution_count": 39,
   "metadata": {},
   "outputs": [
    {
     "name": "stdout",
     "output_type": "stream",
     "text": [
      "Mars Helicopter Attached to NASA's Perseverance Rover\n",
      "The team also fueled the rover's sky crane to get ready for this summer's history-making launch.\n"
     ]
    }
   ],
   "source": [
    "\n",
    "# Scrape the NASA Mars News Site and collect the latest News Title and Paragraph Text.\n",
    "u_list = soup.find(\"ul\", class_= \"item_list\")\n",
    "li_list = u_list.find(\"li\", class_=\"slide\" )\n",
    "title_results = li_list.find('div', class_='content_title').text\n",
    "article_teaser = li_list.find('div', class_=\"article_teaser_body\").text\n",
    "print(title_results)\n",
    "print(article_teaser)"
   ]
  },
  {
   "cell_type": "code",
   "execution_count": 40,
   "metadata": {},
   "outputs": [
    {
     "name": "stdout",
     "output_type": "stream",
     "text": [
      "https://www.jpl.nasa.gov/spaceimages/images/wallpaper/PIA23835-640x350.jpg\n"
     ]
    }
   ],
   "source": [
    "# Visit the url for JPL Featured Space Image and produce the daily Featured Image\n",
    "featured_image_url = 'https://www.jpl.nasa.gov/spaceimages/?search=&category=Mars'\n",
    "browser.visit(featured_image_url)\n",
    "browser.click_link_by_partial_text('FULL IMAGE')\n",
    "\n",
    "jplimage_html = browser.html\n",
    "jplimage_soup = BeautifulSoup(jplimage_html,'html.parser')\n",
    "\n",
    "img = jplimage_soup.find('img', class_='thumb')['src']\n",
    "image_path = f'https://www.jpl.nasa.gov{img}'\n",
    "print(image_path)\n"
   ]
  },
  {
   "cell_type": "code",
   "execution_count": 41,
   "metadata": {},
   "outputs": [],
   "source": [
    "featured_image_url =image_path"
   ]
  },
  {
   "cell_type": "code",
   "execution_count": 21,
   "metadata": {},
   "outputs": [
    {
     "data": {
      "text/plain": [
       "'InSight sol 485 (2020-04-07) low -93.4ºC (-136.1ºF) high -7.0ºC (19.4ºF)\\nwinds from the WNW at 5.2 m/s (11.5 mph) gusting to 17.4 m/s (38.9 mph)\\npressure at 6.50 hPapic.twitter.com/lSCXda8hgu'"
      ]
     },
     "execution_count": 21,
     "metadata": {},
     "output_type": "execute_result"
    }
   ],
   "source": [
    "# Search through @MarsWxReport twitter page to produce Mar's daily weather reports tweets in text\n",
    "mars_twitter_url = 'https://twitter.com/marswxreport?lang=en'\n",
    "response = requests.get(mars_twitter_url)\n",
    "\n",
    "mars_twitter_soup = BeautifulSoup(response.text,'lxml')\n",
    "\n",
    "mars_tweet = mars_twitter_soup.find_all('p', class_=\"TweetTextSize TweetTextSize--normal js-tweet-text tweet-text\")\n",
    "current_weather_tweet = mars_tweet[0].text\n",
    "current_weather_tweet\n"
   ]
  },
  {
   "cell_type": "code",
   "execution_count": 22,
   "metadata": {},
   "outputs": [],
   "source": [
    "mars_weather = current_weather_tweet"
   ]
  },
  {
   "cell_type": "code",
   "execution_count": 23,
   "metadata": {},
   "outputs": [
    {
     "data": {
      "text/plain": [
       "'<table border=\"1\" class=\"dataframe\">\\n  <thead>\\n    <tr style=\"text-align: right;\">\\n      <th></th>\\n      <th>0</th>\\n      <th>1</th>\\n    </tr>\\n  </thead>\\n  <tbody>\\n    <tr>\\n      <th>0</th>\\n      <td>Equatorial Diameter:</td>\\n      <td>6,792 km</td>\\n    </tr>\\n    <tr>\\n      <th>1</th>\\n      <td>Polar Diameter:</td>\\n      <td>6,752 km</td>\\n    </tr>\\n    <tr>\\n      <th>2</th>\\n      <td>Mass:</td>\\n      <td>6.39 × 10^23 kg (0.11 Earths)</td>\\n    </tr>\\n    <tr>\\n      <th>3</th>\\n      <td>Moons:</td>\\n      <td>2 (Phobos &amp; Deimos)</td>\\n    </tr>\\n    <tr>\\n      <th>4</th>\\n      <td>Orbit Distance:</td>\\n      <td>227,943,824 km (1.38 AU)</td>\\n    </tr>\\n    <tr>\\n      <th>5</th>\\n      <td>Orbit Period:</td>\\n      <td>687 days (1.9 years)</td>\\n    </tr>\\n    <tr>\\n      <th>6</th>\\n      <td>Surface Temperature:</td>\\n      <td>-87 to -5 °C</td>\\n    </tr>\\n    <tr>\\n      <th>7</th>\\n      <td>First Record:</td>\\n      <td>2nd millennium BC</td>\\n    </tr>\\n    <tr>\\n      <th>8</th>\\n      <td>Recorded By:</td>\\n      <td>Egyptian astronomers</td>\\n    </tr>\\n  </tbody>\\n</table>'"
      ]
     },
     "execution_count": 23,
     "metadata": {},
     "output_type": "execute_result"
    }
   ],
   "source": [
    "# read_html function in Pandas to automatically scrape any tabular data from a page.\n",
    "mars_facts = \"https://space-facts.com/mars/\"\n",
    "fact_tables = pd.read_html(mars_facts)\n",
    "fact_tables\n",
    "mars_table = fact_tables[0]\n",
    "\n",
    "# to_html method that we can use to generate HTML tables from DataFrames.\n",
    "mars_facts_html = mars_table.to_html()\n",
    "# strip unwanted newlines to clean up the table.\n",
    "mars_facts_html.replace('\\n', '')\n",
    "mars_facts_html\n"
   ]
  },
  {
   "cell_type": "code",
   "execution_count": 24,
   "metadata": {},
   "outputs": [],
   "source": [
    "mars_space_facts = mars_facts_html"
   ]
  },
  {
   "cell_type": "code",
   "execution_count": 25,
   "metadata": {},
   "outputs": [
    {
     "data": {
      "text/plain": [
       "[{'Title:': 'Cerberus Hemisphere Enhanced',\n",
       "  'Image URL:': 'http://astropedia.astrogeology.usgs.gov/download/Mars/Viking/cerberus_enhanced.tif/full.jpg'},\n",
       " {'Title:': 'Schiaparelli Hemisphere Enhanced',\n",
       "  'Image URL:': 'http://astropedia.astrogeology.usgs.gov/download/Mars/Viking/schiaparelli_enhanced.tif/full.jpg'},\n",
       " {'Title:': 'Syrtis Major Hemisphere Enhanced',\n",
       "  'Image URL:': 'http://astropedia.astrogeology.usgs.gov/download/Mars/Viking/syrtis_major_enhanced.tif/full.jpg'},\n",
       " {'Title:': 'Valles Marineris Hemisphere Enhanced',\n",
       "  'Image URL:': 'http://astropedia.astrogeology.usgs.gov/download/Mars/Viking/valles_marineris_enhanced.tif/full.jpg'}]"
      ]
     },
     "execution_count": 25,
     "metadata": {},
     "output_type": "execute_result"
    }
   ],
   "source": [
    "# Search through astrogeology.usgs.gov for class to the 4 enhanced images of Mars Hemispere links\n",
    "mars_hemisphere_url = \"https://astrogeology.usgs.gov/search/results?q=hemisphere+enhanced&k1=target&v1=Mars\"\n",
    "browser.visit(mars_hemisphere_url)\n",
    "mars_html = browser.html\n",
    "html_soup = BeautifulSoup(mars_html, \"html.parser\")\n",
    "hemis = html_soup.find_all(\"div\", class_=\"item\")\n",
    "\n",
    "# create dict\n",
    "hemisphere_image_urls = []\n",
    "#  for loop to comb the page and get the Text/Name of the image hemisphere, the download link and\n",
    "#     the create the full url of the image.\n",
    "for hemi in hemis:\n",
    "    image_title = hemi.find('h3').text\n",
    "    url_link = hemi.find(\"a\")[\"href\"]\n",
    "    image_link = \"https://astrogeology.usgs.gov/\" + url_link \n",
    "# visits the full url of the image and returns the image,title and url \n",
    "    browser.visit(image_link)\n",
    "    html= browser.html\n",
    "    link_soup = BeautifulSoup(html, \"html.parser\")\n",
    "    image_download = link_soup.find('div',class_= 'downloads')\n",
    "    image_url = image_download.find('a')['href']\n",
    "    hemisphere_image_urls.append({\"Title:\":image_title ,\"Image URL:\":image_url})\n",
    "hemisphere_image_urls"
   ]
  }
 ],
 "metadata": {
  "kernelspec": {
   "display_name": "Python 3",
   "language": "python",
   "name": "python3"
  },
  "language_info": {
   "codemirror_mode": {
    "name": "ipython",
    "version": 3
   },
   "file_extension": ".py",
   "mimetype": "text/x-python",
   "name": "python",
   "nbconvert_exporter": "python",
   "pygments_lexer": "ipython3",
   "version": "3.7.4"
  }
 },
 "nbformat": 4,
 "nbformat_minor": 2
}
